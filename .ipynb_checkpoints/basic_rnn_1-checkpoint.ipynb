{
 "cells": [
  {
   "cell_type": "markdown",
   "metadata": {},
   "source": [
    "## Tensorflow RNN Part - 1"
   ]
  },
  {
   "cell_type": "code",
   "execution_count": 6,
   "metadata": {
    "collapsed": true
   },
   "outputs": [],
   "source": [
    "#import important libraries\n",
    "import tensorflow as tf\n",
    "import numpy as np\n",
    "import matplotlib.pyplot as plt\n"
   ]
  },
  {
   "cell_type": "code",
   "execution_count": 7,
   "metadata": {
    "collapsed": true
   },
   "outputs": [],
   "source": [
    "#initialize hyperparameters\n",
    "num_epochs = 100\n",
    "total_series_length = 50000\n",
    "truncated_backprop_length = 30\n",
    "state_size = 4\n",
    "num_classes = 2\n",
    "echo_step = 3\n",
    "batch_size = 5\n",
    "num_batches = total_series_length//batch_size//truncated_backprop_length"
   ]
  },
  {
   "cell_type": "code",
   "execution_count": 8,
   "metadata": {
    "collapsed": true
   },
   "outputs": [],
   "source": [
    "#data generator\n",
    "def generateData():\n",
    "    x = np.array(np.random.choice(2,total_series_length,p=[0.5,0.5]))\n",
    "    y = np.roll(x,echo_step)\n",
    "    \n",
    "    y[0:echo_step] = 0\n",
    "    \n",
    "    x = x.reshape((batch_size,-1))\n",
    "    y = y.reshape((batch_size,-1))\n",
    "    \n",
    "    return x,y"
   ]
  },
  {
   "cell_type": "code",
   "execution_count": 9,
   "metadata": {
    "collapsed": true
   },
   "outputs": [],
   "source": [
    "#building the computational graph\n",
    "batch_x = tf.placeholder(tf.float32,[batch_size,truncated_backprop_length])\n",
    "batch_y = tf.placeholder(tf.int32,[batch_size,truncated_backprop_length])\n",
    "\n",
    "init_state = tf.placeholder(tf.float32,[batch_size,state_size])\n",
    "\n",
    "w = tf.Variable(np.random.rand(state_size+1,state_size),dtype=tf.float32)\n",
    "b = tf.Variable(np.zeros((1,state_size)),dtype = tf.float32)\n",
    "\n",
    "w2 = tf.Variable(np.random.rand(state_size, num_classes),dtype=tf.float32)\n",
    "b2 = tf.Variable(np.zeros((1,num_classes)),dtype = tf.float32)\n"
   ]
  },
  {
   "cell_type": "code",
   "execution_count": 10,
   "metadata": {
    "collapsed": false
   },
   "outputs": [],
   "source": [
    "# Unpack columns\n",
    "inputs_series = tf.unstack(batch_x, axis=1)\n",
    "labels_series = tf.unstack(batch_y, axis=1)"
   ]
  },
  {
   "cell_type": "code",
   "execution_count": 11,
   "metadata": {
    "collapsed": false
   },
   "outputs": [],
   "source": [
    "#forward pass\n",
    "current_state = init_state\n",
    "states_series = []\n",
    "for current_input in inputs_series:\n",
    "    current_input =  tf.reshape(current_input,[batch_size,-1])\n",
    "    input_state_concatenated = tf.concat([current_input,current_state],1)\n",
    "    \n",
    "    next_state = tf.tanh(tf.matmul(input_state_concatenated,w)+b)\n",
    "    states_series.append(next_state)\n",
    "    current_state = next_state"
   ]
  },
  {
   "cell_type": "code",
   "execution_count": 12,
   "metadata": {
    "collapsed": false
   },
   "outputs": [],
   "source": [
    "# prediction and loss calculation\n",
    "logits_series = [tf.matmul(state,w2)+b2 for state in states_series]\n",
    "predictions_series = [tf.nn.softmax(logits) for logits in logits_series]\n",
    "\n",
    "losses = [tf.nn.sparse_softmax_cross_entropy_with_logits(logits = logits,labels = labels) for logits,labels in zip(logits_series,labels_series)]\n",
    "total_loss = tf.reduce_mean(losses)\n",
    "\n",
    "train_step = tf.train.AdamOptimizer(0.3).minimize(total_loss)"
   ]
  },
  {
   "cell_type": "code",
   "execution_count": 13,
   "metadata": {
    "collapsed": true
   },
   "outputs": [],
   "source": [
    "# training visualization\n",
    "def plot(loss_list, predictions_series, batchX, batchY):\n",
    "    plt.subplot(2, 3, 1)\n",
    "    plt.cla()\n",
    "    plt.plot(loss_list)\n",
    "\n",
    "    for batch_series_idx in range(5):\n",
    "        one_hot_output_series = np.array(predictions_series)[:, batch_series_idx, :]\n",
    "        single_output_series = np.array([(1 if out[0] < 0.5 else 0) for out in one_hot_output_series])\n",
    "\n",
    "        plt.subplot(2, 3, batch_series_idx + 2)\n",
    "        plt.cla()\n",
    "        plt.axis([0, truncated_backprop_length, 0, 2])\n",
    "        left_offset = range(truncated_backprop_length)\n",
    "        plt.bar(left_offset, batchX[batch_series_idx, :], width=1, color=\"blue\")\n",
    "        plt.bar(left_offset, batchY[batch_series_idx, :] * 0.5, width=1, color=\"red\")\n",
    "        plt.bar(left_offset, single_output_series * 0.3, width=1, color=\"green\")\n",
    "\n",
    "    plt.draw()\n",
    "    plt.pause(0.0001)"
   ]
  },
  {
   "cell_type": "code",
   "execution_count": 14,
   "metadata": {
    "collapsed": false
   },
   "outputs": [
    {
     "data": {
      "text/plain": [
       "<matplotlib.figure.Figure at 0x1c8898fd128>"
      ]
     },
     "metadata": {},
     "output_type": "display_data"
    },
    {
     "name": "stdout",
     "output_type": "stream",
     "text": [
      "New data, epoch 0\n",
      "Step 0 Loss 0.710209\n",
      "Step 100 Loss 0.019455\n",
      "Step 200 Loss 0.512352\n",
      "Step 300 Loss 0.526663\n",
      "New data, epoch 1\n",
      "Step 0 Loss 0.561571\n",
      "Step 100 Loss 0.505807\n",
      "Step 200 Loss 0.618964\n",
      "Step 300 Loss 0.69709\n",
      "New data, epoch 2\n",
      "Step 0 Loss 0.695776\n",
      "Step 100 Loss 0.655418\n",
      "Step 200 Loss 0.676179\n",
      "Step 300 Loss 0.548748\n",
      "New data, epoch 3\n",
      "Step 0 Loss 0.621805\n",
      "Step 100 Loss 0.53667\n",
      "Step 200 Loss 0.642504\n",
      "Step 300 Loss 0.744748\n",
      "New data, epoch 4\n",
      "Step 0 Loss 0.630912\n",
      "Step 100 Loss 0.64919\n",
      "Step 200 Loss 0.594398\n",
      "Step 300 Loss 0.596238\n",
      "New data, epoch 5\n",
      "Step 0 Loss 0.659549\n",
      "Step 100 Loss 0.661452\n",
      "Step 200 Loss 0.689251\n",
      "Step 300 Loss 0.696616\n",
      "New data, epoch 6\n",
      "Step 0 Loss 0.671326\n",
      "Step 100 Loss 0.62677\n",
      "Step 200 Loss 0.577166\n",
      "Step 300 Loss 0.740288\n",
      "New data, epoch 7\n",
      "Step 0 Loss 0.700662\n"
     ]
    },
    {
     "name": "stderr",
     "output_type": "stream",
     "text": [
      "C:\\Users\\Abhishek\\Anaconda3\\lib\\site-packages\\matplotlib\\axis.py:1027: UserWarning: Unable to find pixel distance along axis for interval padding of ticks; assuming no interval padding needed.\n",
      "  warnings.warn(\"Unable to find pixel distance along axis \"\n"
     ]
    },
    {
     "name": "stdout",
     "output_type": "stream",
     "text": [
      "Step 100 Loss 0.597639\n",
      "Step 200 Loss 0.63396\n",
      "Step 300 Loss 0.684634\n",
      "New data, epoch 8\n",
      "Step 0 Loss 0.577243\n",
      "Step 100 Loss 0.743546\n",
      "Step 200 Loss 0.739544\n",
      "Step 300 Loss 0.711959\n",
      "New data, epoch 9\n",
      "Step 0 Loss 0.700917\n",
      "Step 100 Loss 0.691215\n",
      "Step 200 Loss 0.699769\n",
      "Step 300 Loss 0.702877\n",
      "New data, epoch 10\n",
      "Step 0 Loss 0.713821\n",
      "Step 100 Loss 0.721298\n",
      "Step 200 Loss 0.69488\n",
      "Step 300 Loss 0.681738\n",
      "New data, epoch 11\n",
      "Step 0 Loss 0.66814\n",
      "Step 100 Loss 0.656086\n",
      "Step 200 Loss 0.696176\n",
      "Step 300 Loss 0.700522\n",
      "New data, epoch 12\n",
      "Step 0 Loss 0.708134\n",
      "Step 100 Loss 0.685657\n",
      "Step 200 Loss 0.692907\n",
      "Step 300 Loss 0.684185\n",
      "New data, epoch 13\n",
      "Step 0 Loss 0.704993\n",
      "Step 100 Loss 0.699646\n",
      "Step 200 Loss 0.699698\n",
      "Step 300 Loss 0.709534\n",
      "New data, epoch 14\n",
      "Step 0 Loss 0.696603\n",
      "Step 100 Loss 0.72149\n",
      "Step 200 Loss 0.784371\n",
      "Step 300 Loss 0.7127\n",
      "New data, epoch 15\n",
      "Step 0 Loss 0.703571\n",
      "Step 100 Loss 0.745763\n",
      "Step 200 Loss 0.719991\n",
      "Step 300 Loss 0.694141\n",
      "New data, epoch 16\n",
      "Step 0 Loss 0.716205\n",
      "Step 100 Loss 0.713362\n",
      "Step 200 Loss 0.697314\n",
      "Step 300 Loss 0.692337\n",
      "New data, epoch 17\n",
      "Step 0 Loss 0.689392\n",
      "Step 100 Loss 0.842423\n",
      "Step 200 Loss 0.752629\n",
      "Step 300 Loss 0.684926\n",
      "New data, epoch 18\n",
      "Step 0 Loss 0.768898\n",
      "Step 100 Loss 0.695344\n",
      "Step 200 Loss 0.804264\n",
      "Step 300 Loss 0.696002\n",
      "New data, epoch 19\n",
      "Step 0 Loss 0.703856\n",
      "Step 100 Loss 0.692278\n",
      "Step 200 Loss 0.720554\n",
      "Step 300 Loss 0.693533\n",
      "New data, epoch 20\n",
      "Step 0 Loss 0.680138\n",
      "Step 100 Loss 0.674678\n",
      "Step 200 Loss 0.716275\n",
      "Step 300 Loss 0.693141\n",
      "New data, epoch 21\n",
      "Step 0 Loss 0.693742\n",
      "Step 100 Loss 0.727659\n",
      "Step 200 Loss 0.694573\n",
      "Step 300 Loss 0.703351\n",
      "New data, epoch 22\n",
      "Step 0 Loss 0.705229\n",
      "Step 100 Loss 0.69744\n",
      "Step 200 Loss 0.715744\n",
      "Step 300 Loss 0.712306\n",
      "New data, epoch 23\n",
      "Step 0 Loss 0.728304\n",
      "Step 100 Loss 0.69194\n",
      "Step 200 Loss 0.691627\n",
      "Step 300 Loss 0.704097\n",
      "New data, epoch 24\n",
      "Step 0 Loss 0.70341\n",
      "Step 100 Loss 0.680429\n",
      "Step 200 Loss 0.69979\n",
      "Step 300 Loss 0.693557\n",
      "New data, epoch 25\n",
      "Step 0 Loss 0.683754\n",
      "Step 100 Loss 0.711812\n",
      "Step 200 Loss 0.698475\n",
      "Step 300 Loss 0.727443\n"
     ]
    },
    {
     "name": "stderr",
     "output_type": "stream",
     "text": [
      "Exception ignored in: <function WeakValueDictionary.__init__.<locals>.remove at 0x000001C88A6AAD90>\n",
      "Traceback (most recent call last):\n",
      "  File \"C:\\Users\\Abhishek\\Anaconda3\\lib\\weakref.py\", line 109, in remove\n",
      "    self = selfref()\n",
      "KeyboardInterrupt\n"
     ]
    },
    {
     "name": "stdout",
     "output_type": "stream",
     "text": [
      "New data, epoch 26\n",
      "Step 0 Loss 0.681094\n",
      "Step 100 Loss 0.772344\n",
      "Step 200 Loss 0.779571\n",
      "Step 300 Loss 0.746475\n",
      "New data, epoch 27\n",
      "Step 0 Loss 0.688551\n",
      "Step 100 Loss 0.702398\n",
      "Step 200 Loss 0.721603\n",
      "Step 300 Loss 0.743451\n",
      "New data, epoch 28\n",
      "Step 0 Loss 0.685879\n",
      "Step 100 Loss 0.704704\n",
      "Step 200 Loss 0.713074\n",
      "Step 300 Loss 0.694127\n",
      "New data, epoch 29\n",
      "Step 0 Loss 0.686908\n",
      "Step 100 Loss 0.697984\n",
      "Step 200 Loss 0.675162\n",
      "Step 300 Loss 0.734321\n",
      "New data, epoch 30\n",
      "Step 0 Loss 0.709735\n",
      "Step 100 Loss 0.693644\n",
      "Step 200 Loss 0.713072\n",
      "Step 300 Loss 0.711428\n",
      "New data, epoch 31\n",
      "Step 0 Loss 0.701182\n",
      "Step 100 Loss 0.725216\n",
      "Step 200 Loss 0.7023\n",
      "Step 300 Loss 0.708469\n",
      "New data, epoch 32\n",
      "Step 0 Loss 0.754188\n",
      "Step 100 Loss 0.695491\n",
      "Step 200 Loss 0.721189\n",
      "Step 300 Loss 0.714697\n",
      "New data, epoch 33\n",
      "Step 0 Loss 0.690472\n",
      "Step 100 Loss 0.694249\n",
      "Step 200 Loss 0.696593\n",
      "Step 300 Loss 0.692991\n",
      "New data, epoch 34\n",
      "Step 0 Loss 0.690684\n",
      "Step 100 Loss 0.742879\n",
      "Step 200 Loss 0.67541\n",
      "Step 300 Loss 0.76252\n",
      "New data, epoch 35\n",
      "Step 0 Loss 0.675493\n",
      "Step 100 Loss 0.694896\n",
      "Step 200 Loss 0.690479\n",
      "Step 300 Loss 0.743179\n",
      "New data, epoch 36\n",
      "Step 0 Loss 0.708458\n",
      "Step 100 Loss 0.710273\n",
      "Step 200 Loss 0.712084\n",
      "Step 300 Loss 0.73153\n",
      "New data, epoch 37\n",
      "Step 0 Loss 0.711435\n",
      "Step 100 Loss 0.692507\n",
      "Step 200 Loss 0.712542\n",
      "Step 300 Loss 0.693121\n",
      "New data, epoch 38\n",
      "Step 0 Loss 0.730222\n",
      "Step 100 Loss 0.679375\n",
      "Step 200 Loss 0.712331\n",
      "Step 300 Loss 0.720937\n",
      "New data, epoch 39\n",
      "Step 0 Loss 0.686939\n",
      "Step 100 Loss 0.723567\n",
      "Step 200 Loss 0.691308\n"
     ]
    },
    {
     "ename": "KeyboardInterrupt",
     "evalue": "",
     "output_type": "error",
     "traceback": [
      "\u001b[0;31m---------------------------------------------------------------------------\u001b[0m",
      "\u001b[0;31mKeyboardInterrupt\u001b[0m                         Traceback (most recent call last)",
      "\u001b[0;32m<ipython-input-14-94e4a1a50be7>\u001b[0m in \u001b[0;36m<module>\u001b[0;34m()\u001b[0m\n\u001b[1;32m     24\u001b[0m                     \u001b[0mbatch_x\u001b[0m\u001b[1;33m:\u001b[0m\u001b[0mbatchX\u001b[0m\u001b[1;33m,\u001b[0m\u001b[1;33m\u001b[0m\u001b[0m\n\u001b[1;32m     25\u001b[0m                     \u001b[0mbatch_y\u001b[0m\u001b[1;33m:\u001b[0m\u001b[0mbatchY\u001b[0m\u001b[1;33m,\u001b[0m\u001b[1;33m\u001b[0m\u001b[0m\n\u001b[0;32m---> 26\u001b[0;31m                     \u001b[0minit_state\u001b[0m\u001b[1;33m:\u001b[0m\u001b[0m_current_state\u001b[0m\u001b[1;33m\u001b[0m\u001b[0m\n\u001b[0m\u001b[1;32m     27\u001b[0m                 })\n\u001b[1;32m     28\u001b[0m \u001b[1;33m\u001b[0m\u001b[0m\n",
      "\u001b[0;32mC:\\Users\\Abhishek\\Anaconda3\\lib\\site-packages\\tensorflow\\python\\client\\session.py\u001b[0m in \u001b[0;36mrun\u001b[0;34m(self, fetches, feed_dict, options, run_metadata)\u001b[0m\n\u001b[1;32m    898\u001b[0m     \u001b[1;32mtry\u001b[0m\u001b[1;33m:\u001b[0m\u001b[1;33m\u001b[0m\u001b[0m\n\u001b[1;32m    899\u001b[0m       result = self._run(None, fetches, feed_dict, options_ptr,\n\u001b[0;32m--> 900\u001b[0;31m                          run_metadata_ptr)\n\u001b[0m\u001b[1;32m    901\u001b[0m       \u001b[1;32mif\u001b[0m \u001b[0mrun_metadata\u001b[0m\u001b[1;33m:\u001b[0m\u001b[1;33m\u001b[0m\u001b[0m\n\u001b[1;32m    902\u001b[0m         \u001b[0mproto_data\u001b[0m \u001b[1;33m=\u001b[0m \u001b[0mtf_session\u001b[0m\u001b[1;33m.\u001b[0m\u001b[0mTF_GetBuffer\u001b[0m\u001b[1;33m(\u001b[0m\u001b[0mrun_metadata_ptr\u001b[0m\u001b[1;33m)\u001b[0m\u001b[1;33m\u001b[0m\u001b[0m\n",
      "\u001b[0;32mC:\\Users\\Abhishek\\Anaconda3\\lib\\site-packages\\tensorflow\\python\\client\\session.py\u001b[0m in \u001b[0;36m_run\u001b[0;34m(self, handle, fetches, feed_dict, options, run_metadata)\u001b[0m\n\u001b[1;32m   1133\u001b[0m     \u001b[1;32mif\u001b[0m \u001b[0mfinal_fetches\u001b[0m \u001b[1;32mor\u001b[0m \u001b[0mfinal_targets\u001b[0m \u001b[1;32mor\u001b[0m \u001b[1;33m(\u001b[0m\u001b[0mhandle\u001b[0m \u001b[1;32mand\u001b[0m \u001b[0mfeed_dict_tensor\u001b[0m\u001b[1;33m)\u001b[0m\u001b[1;33m:\u001b[0m\u001b[1;33m\u001b[0m\u001b[0m\n\u001b[1;32m   1134\u001b[0m       results = self._do_run(handle, final_targets, final_fetches,\n\u001b[0;32m-> 1135\u001b[0;31m                              feed_dict_tensor, options, run_metadata)\n\u001b[0m\u001b[1;32m   1136\u001b[0m     \u001b[1;32melse\u001b[0m\u001b[1;33m:\u001b[0m\u001b[1;33m\u001b[0m\u001b[0m\n\u001b[1;32m   1137\u001b[0m       \u001b[0mresults\u001b[0m \u001b[1;33m=\u001b[0m \u001b[1;33m[\u001b[0m\u001b[1;33m]\u001b[0m\u001b[1;33m\u001b[0m\u001b[0m\n",
      "\u001b[0;32mC:\\Users\\Abhishek\\Anaconda3\\lib\\site-packages\\tensorflow\\python\\client\\session.py\u001b[0m in \u001b[0;36m_do_run\u001b[0;34m(self, handle, target_list, fetch_list, feed_dict, options, run_metadata)\u001b[0m\n\u001b[1;32m   1314\u001b[0m     \u001b[1;32mif\u001b[0m \u001b[0mhandle\u001b[0m \u001b[1;32mis\u001b[0m \u001b[1;32mNone\u001b[0m\u001b[1;33m:\u001b[0m\u001b[1;33m\u001b[0m\u001b[0m\n\u001b[1;32m   1315\u001b[0m       return self._do_call(_run_fn, feeds, fetches, targets, options,\n\u001b[0;32m-> 1316\u001b[0;31m                            run_metadata)\n\u001b[0m\u001b[1;32m   1317\u001b[0m     \u001b[1;32melse\u001b[0m\u001b[1;33m:\u001b[0m\u001b[1;33m\u001b[0m\u001b[0m\n\u001b[1;32m   1318\u001b[0m       \u001b[1;32mreturn\u001b[0m \u001b[0mself\u001b[0m\u001b[1;33m.\u001b[0m\u001b[0m_do_call\u001b[0m\u001b[1;33m(\u001b[0m\u001b[0m_prun_fn\u001b[0m\u001b[1;33m,\u001b[0m \u001b[0mhandle\u001b[0m\u001b[1;33m,\u001b[0m \u001b[0mfeeds\u001b[0m\u001b[1;33m,\u001b[0m \u001b[0mfetches\u001b[0m\u001b[1;33m)\u001b[0m\u001b[1;33m\u001b[0m\u001b[0m\n",
      "\u001b[0;32mC:\\Users\\Abhishek\\Anaconda3\\lib\\site-packages\\tensorflow\\python\\client\\session.py\u001b[0m in \u001b[0;36m_do_call\u001b[0;34m(self, fn, *args)\u001b[0m\n\u001b[1;32m   1320\u001b[0m   \u001b[1;32mdef\u001b[0m \u001b[0m_do_call\u001b[0m\u001b[1;33m(\u001b[0m\u001b[0mself\u001b[0m\u001b[1;33m,\u001b[0m \u001b[0mfn\u001b[0m\u001b[1;33m,\u001b[0m \u001b[1;33m*\u001b[0m\u001b[0margs\u001b[0m\u001b[1;33m)\u001b[0m\u001b[1;33m:\u001b[0m\u001b[1;33m\u001b[0m\u001b[0m\n\u001b[1;32m   1321\u001b[0m     \u001b[1;32mtry\u001b[0m\u001b[1;33m:\u001b[0m\u001b[1;33m\u001b[0m\u001b[0m\n\u001b[0;32m-> 1322\u001b[0;31m       \u001b[1;32mreturn\u001b[0m \u001b[0mfn\u001b[0m\u001b[1;33m(\u001b[0m\u001b[1;33m*\u001b[0m\u001b[0margs\u001b[0m\u001b[1;33m)\u001b[0m\u001b[1;33m\u001b[0m\u001b[0m\n\u001b[0m\u001b[1;32m   1323\u001b[0m     \u001b[1;32mexcept\u001b[0m \u001b[0merrors\u001b[0m\u001b[1;33m.\u001b[0m\u001b[0mOpError\u001b[0m \u001b[1;32mas\u001b[0m \u001b[0me\u001b[0m\u001b[1;33m:\u001b[0m\u001b[1;33m\u001b[0m\u001b[0m\n\u001b[1;32m   1324\u001b[0m       \u001b[0mmessage\u001b[0m \u001b[1;33m=\u001b[0m \u001b[0mcompat\u001b[0m\u001b[1;33m.\u001b[0m\u001b[0mas_text\u001b[0m\u001b[1;33m(\u001b[0m\u001b[0me\u001b[0m\u001b[1;33m.\u001b[0m\u001b[0mmessage\u001b[0m\u001b[1;33m)\u001b[0m\u001b[1;33m\u001b[0m\u001b[0m\n",
      "\u001b[0;32mC:\\Users\\Abhishek\\Anaconda3\\lib\\site-packages\\tensorflow\\python\\client\\session.py\u001b[0m in \u001b[0;36m_run_fn\u001b[0;34m(feed_dict, fetch_list, target_list, options, run_metadata)\u001b[0m\n\u001b[1;32m   1305\u001b[0m       \u001b[0mself\u001b[0m\u001b[1;33m.\u001b[0m\u001b[0m_extend_graph\u001b[0m\u001b[1;33m(\u001b[0m\u001b[1;33m)\u001b[0m\u001b[1;33m\u001b[0m\u001b[0m\n\u001b[1;32m   1306\u001b[0m       return self._call_tf_sessionrun(\n\u001b[0;32m-> 1307\u001b[0;31m           options, feed_dict, fetch_list, target_list, run_metadata)\n\u001b[0m\u001b[1;32m   1308\u001b[0m \u001b[1;33m\u001b[0m\u001b[0m\n\u001b[1;32m   1309\u001b[0m     \u001b[1;32mdef\u001b[0m \u001b[0m_prun_fn\u001b[0m\u001b[1;33m(\u001b[0m\u001b[0mhandle\u001b[0m\u001b[1;33m,\u001b[0m \u001b[0mfeed_dict\u001b[0m\u001b[1;33m,\u001b[0m \u001b[0mfetch_list\u001b[0m\u001b[1;33m)\u001b[0m\u001b[1;33m:\u001b[0m\u001b[1;33m\u001b[0m\u001b[0m\n",
      "\u001b[0;32mC:\\Users\\Abhishek\\Anaconda3\\lib\\site-packages\\tensorflow\\python\\client\\session.py\u001b[0m in \u001b[0;36m_call_tf_sessionrun\u001b[0;34m(self, options, feed_dict, fetch_list, target_list, run_metadata)\u001b[0m\n\u001b[1;32m   1407\u001b[0m       return tf_session.TF_SessionRun_wrapper(\n\u001b[1;32m   1408\u001b[0m           \u001b[0mself\u001b[0m\u001b[1;33m.\u001b[0m\u001b[0m_session\u001b[0m\u001b[1;33m,\u001b[0m \u001b[0moptions\u001b[0m\u001b[1;33m,\u001b[0m \u001b[0mfeed_dict\u001b[0m\u001b[1;33m,\u001b[0m \u001b[0mfetch_list\u001b[0m\u001b[1;33m,\u001b[0m \u001b[0mtarget_list\u001b[0m\u001b[1;33m,\u001b[0m\u001b[1;33m\u001b[0m\u001b[0m\n\u001b[0;32m-> 1409\u001b[0;31m           run_metadata)\n\u001b[0m\u001b[1;32m   1410\u001b[0m     \u001b[1;32melse\u001b[0m\u001b[1;33m:\u001b[0m\u001b[1;33m\u001b[0m\u001b[0m\n\u001b[1;32m   1411\u001b[0m       \u001b[1;32mwith\u001b[0m \u001b[0merrors\u001b[0m\u001b[1;33m.\u001b[0m\u001b[0mraise_exception_on_not_ok_status\u001b[0m\u001b[1;33m(\u001b[0m\u001b[1;33m)\u001b[0m \u001b[1;32mas\u001b[0m \u001b[0mstatus\u001b[0m\u001b[1;33m:\u001b[0m\u001b[1;33m\u001b[0m\u001b[0m\n",
      "\u001b[0;31mKeyboardInterrupt\u001b[0m: "
     ]
    },
    {
     "data": {
      "image/png": "[encoded data removed]",
      "text/plain": [
       "<matplotlib.figure.Figure at 0x1c889d11e80>"
      ]
     },
     "metadata": {},
     "output_type": "display_data"
    }
   ],
   "source": [
    "with tf.Session() as sess:\n",
    "    sess.run(tf.initialize_all_variables())\n",
    "    plt.ion()\n",
    "    plt.figure()\n",
    "    plt.show()\n",
    "    loss_list = []\n",
    "\n",
    "    for epoch_idx in range(num_epochs):\n",
    "        x,y = generateData()\n",
    "        _current_state = np.zeros((batch_size, state_size))\n",
    "\n",
    "        print(\"New data, epoch\", epoch_idx)\n",
    "\n",
    "        for batch_idx in range(num_batches):\n",
    "            start_idx = batch_idx * truncated_backprop_length\n",
    "            end_idx = start_idx + truncated_backprop_length\n",
    "\n",
    "            batchX = x[:,start_idx:end_idx]\n",
    "            batchY = y[:,start_idx:end_idx]\n",
    "\n",
    "            _total_loss, _train_step, _current_state, _predictions_series = sess.run(\n",
    "                [total_loss, train_step, current_state, predictions_series],\n",
    "                feed_dict={\n",
    "                    batch_x:batchX,\n",
    "                    batch_y:batchY,\n",
    "                    init_state:_current_state\n",
    "                })\n",
    "\n",
    "            loss_list.append(_total_loss)\n",
    "\n",
    "            if batch_idx%100 == 0:\n",
    "                print(\"Step\",batch_idx, \"Loss\", _total_loss)\n",
    "                plot(loss_list, _predictions_series, batchX, batchY)\n",
    "\n",
    "plt.ioff()\n",
    "plt.show()"
   ]
  },
  {
   "cell_type": "code",
   "execution_count": null,
   "metadata": {
    "collapsed": false
   },
   "outputs": [],
   "source": []
  },
  {
   "cell_type": "code",
   "execution_count": null,
   "metadata": {
    "collapsed": true
   },
   "outputs": [],
   "source": []
  }
 ],
 "metadata": {
  "anaconda-cloud": {},
  "kernelspec": {
   "display_name": "Python [conda env:Anaconda3]",
   "language": "python",
   "name": "conda-env-Anaconda3-py"
  },
  "language_info": {
   "codemirror_mode": {
    "name": "ipython",
    "version": 3
   },
   "file_extension": ".py",
   "mimetype": "text/x-python",
   "name": "python",
   "nbconvert_exporter": "python",
   "pygments_lexer": "ipython3",
   "version": "3.5.2"
  }
 },
 "nbformat": 4,
 "nbformat_minor": 2
}
